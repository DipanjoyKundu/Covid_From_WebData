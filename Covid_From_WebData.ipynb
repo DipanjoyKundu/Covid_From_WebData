{
 "cells": [
  {
   "cell_type": "code",
   "execution_count": 2,
   "metadata": {},
   "outputs": [
    {
     "data": {
      "text/html": [
       "        <script type=\"text/javascript\">\n",
       "        window.PlotlyConfig = {MathJaxConfig: 'local'};\n",
       "        if (window.MathJax) {MathJax.Hub.Config({SVG: {font: \"STIX-Web\"}});}\n",
       "        if (typeof require !== 'undefined') {\n",
       "        require.undef(\"plotly\");\n",
       "        requirejs.config({\n",
       "            paths: {\n",
       "                'plotly': ['https://cdn.plot.ly/plotly-latest.min']\n",
       "            }\n",
       "        });\n",
       "        require(['plotly'], function(Plotly) {\n",
       "            window._Plotly = Plotly;\n",
       "        });\n",
       "        }\n",
       "        </script>\n",
       "        "
      ]
     },
     "metadata": {},
     "output_type": "display_data"
    }
   ],
   "source": [
    "import numpy as np\n",
    "from datetime import datetime\n",
    "import pandas as pd\n",
    "import matplotlib.pyplot as plt\n",
    "import seaborn as sb\n",
    "%matplotlib inline\n",
    "import plotly.graph_objs as go \n",
    "from plotly.offline import download_plotlyjs, init_notebook_mode, plot, iplot\n",
    "init_notebook_mode(connected=True)\n",
    "import urllib"
   ]
  },
  {
   "cell_type": "code",
   "execution_count": 3,
   "metadata": {},
   "outputs": [],
   "source": [
    "url = 'https://www.ecdc.europa.eu/sites/default/files/documents/COVID-19-geographic-disbtribution-worldwide.xlsx'\n",
    "urllib.request.urlretrieve(url, \"Covid19.xlsx\")\n",
    "covid = pd.read_excel('Covid19.xlsx')"
   ]
  },
  {
   "cell_type": "code",
   "execution_count": 11,
   "metadata": {},
   "outputs": [],
   "source": [
    "covid_GB_country=covid.groupby('countriesAndTerritories')\n",
    "country_list=list(covid['countriesAndTerritories'].unique())\n",
    "covid_countries={}\n",
    "for country in country_list:\n",
    "    covid_countries[country]=covid_GB_country.get_group(country)\n",
    "    covid_countries[country]=covid_countries[country].set_index('dateRep')"
   ]
  },
  {
   "cell_type": "code",
   "execution_count": 68,
   "metadata": {},
   "outputs": [
    {
     "ename": "SyntaxError",
     "evalue": "invalid syntax (<ipython-input-68-c9bcbc78cb92>, line 19)",
     "output_type": "error",
     "traceback": [
      "\u001b[1;36m  File \u001b[1;32m\"<ipython-input-68-c9bcbc78cb92>\"\u001b[1;36m, line \u001b[1;32m19\u001b[0m\n\u001b[1;33m    plt.grid(alpha=0.2)\u001b[0m\n\u001b[1;37m      ^\u001b[0m\n\u001b[1;31mSyntaxError\u001b[0m\u001b[1;31m:\u001b[0m invalid syntax\n"
     ]
    }
   ],
   "source": [
    "fig, ax = plt.subplots(figsize = (20,10))\n",
    "#plt.figure(figsize=(20,5))\n",
    "\n",
    "ax = plt.gca()\n",
    "ax.tick_params(axis='x', colors='black',rotation=90)\n",
    "plt.rcParams['xtick.labelsize'] = 20\n",
    "plt.rcParams['ytick.labelsize'] = 20\n",
    "plt.rcParams['text.color'] = '#909090'\n",
    "i=0\n",
    "for country in country_list:\n",
    "     if covid_countries[country]['deaths'].sum() > 500:\n",
    "        ax.bar(country,covid_countries[country]['deaths'].sum(),label=country )\n",
    "       # xindex,xpos =enumerate(covid_countries[country]['deaths'].sum()) \n",
    "        plt.text(x = i-0.3, y = covid_countries[country]['deaths'].sum() + 40, s = str(covid_countries[country]['deaths'].sum()), size = 20,color='black')\n",
    "        i+=1\n",
    "\n",
    "    \n",
    "plt.title('Corona Death Count : ' + str(datetime.now() ,size=20) \n",
    "plt.grid(alpha=0.2)\n",
    "plt.show() \n",
    "plt.tight_layout()"
   ]
  },
  {
   "cell_type": "code",
   "execution_count": null,
   "metadata": {},
   "outputs": [],
   "source": []
  }
 ],
 "metadata": {
  "kernelspec": {
   "display_name": "Python 3",
   "language": "python",
   "name": "python3"
  },
  "language_info": {
   "codemirror_mode": {
    "name": "ipython",
    "version": 3
   },
   "file_extension": ".py",
   "mimetype": "text/x-python",
   "name": "python",
   "nbconvert_exporter": "python",
   "pygments_lexer": "ipython3",
   "version": "3.7.4"
  }
 },
 "nbformat": 4,
 "nbformat_minor": 2
}
